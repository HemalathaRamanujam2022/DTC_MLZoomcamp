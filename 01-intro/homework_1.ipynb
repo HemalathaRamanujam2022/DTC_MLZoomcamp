{
 "cells": [
  {
   "cell_type": "code",
   "execution_count": 1,
   "id": "365ab7b6-8328-4f1a-9678-716c5384570f",
   "metadata": {},
   "outputs": [],
   "source": [
    "import pandas as pd"
   ]
  },
  {
   "cell_type": "code",
   "execution_count": 2,
   "id": "38140fcc-f69b-44b5-b752-2d08da4705b2",
   "metadata": {},
   "outputs": [
    {
     "data": {
      "text/plain": [
       "'1.5.3'"
      ]
     },
     "execution_count": 2,
     "metadata": {},
     "output_type": "execute_result"
    }
   ],
   "source": [
    "pd.__version__"
   ]
  },
  {
   "cell_type": "code",
   "execution_count": 3,
   "id": "aab041ca-18b6-4679-8f77-89e2c5a40e72",
   "metadata": {},
   "outputs": [
    {
     "name": "stdout",
     "output_type": "stream",
     "text": [
      "--2024-10-01 08:33:55--  https://raw.githubusercontent.com/alexeygrigorev/datasets/master/laptops.csv\n",
      "Resolving raw.githubusercontent.com (raw.githubusercontent.com)... 185.199.108.133, 185.199.109.133, 185.199.110.133, ...\n",
      "Connecting to raw.githubusercontent.com (raw.githubusercontent.com)|185.199.108.133|:443... connected.\n",
      "HTTP request sent, awaiting response... 200 OK\n",
      "Length: 298573 (292K) [text/plain]\n",
      "Saving to: ‘laptops.csv’\n",
      "\n",
      "laptops.csv         100%[===================>] 291.58K  32.5KB/s    in 9.0s    \n",
      "\n",
      "2024-10-01 08:34:04 (32.5 KB/s) - ‘laptops.csv’ saved [298573/298573]\n",
      "\n"
     ]
    }
   ],
   "source": [
    "!wget https://raw.githubusercontent.com/alexeygrigorev/datasets/master/laptops.csv"
   ]
  },
  {
   "cell_type": "code",
   "execution_count": 5,
   "id": "09ef1535-e30b-472f-92b2-1faed7318371",
   "metadata": {},
   "outputs": [
    {
     "name": "stdout",
     "output_type": "stream",
     "text": [
      "Laptop,Status,Brand,Model,CPU,RAM,Storage,Storage type,GPU,Screen,Touch,Final Price\n",
      "\"ASUS ExpertBook B1 B1502CBA-EJ0436X Intel Core i5-1235U/8GB/512GB SSD/15.6\"\"\",New,Asus,ExpertBook,Intel Core i5,8,512,SSD,,15.6,No,1008.9999999999999\n",
      "\"Alurin Go Start Intel Celeron N4020/8GB/256GB SSD/15.6\"\"\",New,Alurin,Go,Intel Celeron,8,256,SSD,,15.6,No,299.0\n",
      "\"ASUS ExpertBook B1 B1502CBA-EJ0424X Intel Core i3-1215U/8GB/256GB SSD/15.6\"\"\",New,Asus,ExpertBook,Intel Core i3,8,256,SSD,,15.6,No,789.0\n",
      "\"MSI Katana GF66 12UC-082XES Intel Core i7-12700H/16GB/1TB SSD/RTX3050/15.6\"\"\",New,MSI,Katana,Intel Core i7,16,1000,SSD,RTX 3050,15.6,No,1199.0\n"
     ]
    }
   ],
   "source": [
    "%%bash\n",
    "head -5 laptops.csv "
   ]
  },
  {
   "cell_type": "code",
   "execution_count": 6,
   "id": "242567ba-bf0d-4f92-b9e6-80ccb4270fc8",
   "metadata": {},
   "outputs": [],
   "source": [
    "df = pd.read_csv(\"laptops.csv\")"
   ]
  },
  {
   "cell_type": "code",
   "execution_count": 7,
   "id": "d14502e9-a6e0-465b-a5d4-529dcff4b95c",
   "metadata": {},
   "outputs": [
    {
     "name": "stdout",
     "output_type": "stream",
     "text": [
      "<class 'pandas.core.frame.DataFrame'>\n",
      "RangeIndex: 2160 entries, 0 to 2159\n",
      "Data columns (total 12 columns):\n",
      " #   Column        Non-Null Count  Dtype  \n",
      "---  ------        --------------  -----  \n",
      " 0   Laptop        2160 non-null   object \n",
      " 1   Status        2160 non-null   object \n",
      " 2   Brand         2160 non-null   object \n",
      " 3   Model         2160 non-null   object \n",
      " 4   CPU           2160 non-null   object \n",
      " 5   RAM           2160 non-null   int64  \n",
      " 6   Storage       2160 non-null   int64  \n",
      " 7   Storage type  2118 non-null   object \n",
      " 8   GPU           789 non-null    object \n",
      " 9   Screen        2156 non-null   float64\n",
      " 10  Touch         2160 non-null   object \n",
      " 11  Final Price   2160 non-null   float64\n",
      "dtypes: float64(2), int64(2), object(8)\n",
      "memory usage: 202.6+ KB\n"
     ]
    }
   ],
   "source": [
    "df.info()"
   ]
  },
  {
   "cell_type": "code",
   "execution_count": 8,
   "id": "4f0ce04c-ab79-4f3c-83e9-8f6c3638341f",
   "metadata": {},
   "outputs": [
    {
     "data": {
      "text/plain": [
       "(2160, 12)"
      ]
     },
     "execution_count": 8,
     "metadata": {},
     "output_type": "execute_result"
    }
   ],
   "source": [
    "df.shape"
   ]
  },
  {
   "cell_type": "code",
   "execution_count": 9,
   "id": "53a87cdf-577b-4c89-8164-28278b2d28f2",
   "metadata": {},
   "outputs": [
    {
     "data": {
      "text/html": [
       "<div>\n",
       "<style scoped>\n",
       "    .dataframe tbody tr th:only-of-type {\n",
       "        vertical-align: middle;\n",
       "    }\n",
       "\n",
       "    .dataframe tbody tr th {\n",
       "        vertical-align: top;\n",
       "    }\n",
       "\n",
       "    .dataframe thead th {\n",
       "        text-align: right;\n",
       "    }\n",
       "</style>\n",
       "<table border=\"1\" class=\"dataframe\">\n",
       "  <thead>\n",
       "    <tr style=\"text-align: right;\">\n",
       "      <th></th>\n",
       "      <th>RAM</th>\n",
       "      <th>Storage</th>\n",
       "      <th>Screen</th>\n",
       "      <th>Final Price</th>\n",
       "    </tr>\n",
       "  </thead>\n",
       "  <tbody>\n",
       "    <tr>\n",
       "      <th>count</th>\n",
       "      <td>2160.000000</td>\n",
       "      <td>2160.000000</td>\n",
       "      <td>2156.000000</td>\n",
       "      <td>2160.000000</td>\n",
       "    </tr>\n",
       "    <tr>\n",
       "      <th>mean</th>\n",
       "      <td>15.413889</td>\n",
       "      <td>596.294444</td>\n",
       "      <td>15.168112</td>\n",
       "      <td>1312.638509</td>\n",
       "    </tr>\n",
       "    <tr>\n",
       "      <th>std</th>\n",
       "      <td>9.867815</td>\n",
       "      <td>361.220506</td>\n",
       "      <td>1.203329</td>\n",
       "      <td>911.475417</td>\n",
       "    </tr>\n",
       "    <tr>\n",
       "      <th>min</th>\n",
       "      <td>4.000000</td>\n",
       "      <td>0.000000</td>\n",
       "      <td>10.100000</td>\n",
       "      <td>201.050000</td>\n",
       "    </tr>\n",
       "    <tr>\n",
       "      <th>25%</th>\n",
       "      <td>8.000000</td>\n",
       "      <td>256.000000</td>\n",
       "      <td>14.000000</td>\n",
       "      <td>661.082500</td>\n",
       "    </tr>\n",
       "    <tr>\n",
       "      <th>50%</th>\n",
       "      <td>16.000000</td>\n",
       "      <td>512.000000</td>\n",
       "      <td>15.600000</td>\n",
       "      <td>1031.945000</td>\n",
       "    </tr>\n",
       "    <tr>\n",
       "      <th>75%</th>\n",
       "      <td>16.000000</td>\n",
       "      <td>1000.000000</td>\n",
       "      <td>15.600000</td>\n",
       "      <td>1708.970000</td>\n",
       "    </tr>\n",
       "    <tr>\n",
       "      <th>max</th>\n",
       "      <td>128.000000</td>\n",
       "      <td>4000.000000</td>\n",
       "      <td>18.000000</td>\n",
       "      <td>7150.470000</td>\n",
       "    </tr>\n",
       "  </tbody>\n",
       "</table>\n",
       "</div>"
      ],
      "text/plain": [
       "               RAM      Storage       Screen  Final Price\n",
       "count  2160.000000  2160.000000  2156.000000  2160.000000\n",
       "mean     15.413889   596.294444    15.168112  1312.638509\n",
       "std       9.867815   361.220506     1.203329   911.475417\n",
       "min       4.000000     0.000000    10.100000   201.050000\n",
       "25%       8.000000   256.000000    14.000000   661.082500\n",
       "50%      16.000000   512.000000    15.600000  1031.945000\n",
       "75%      16.000000  1000.000000    15.600000  1708.970000\n",
       "max     128.000000  4000.000000    18.000000  7150.470000"
      ]
     },
     "execution_count": 9,
     "metadata": {},
     "output_type": "execute_result"
    }
   ],
   "source": [
    "df.describe()"
   ]
  },
  {
   "cell_type": "code",
   "execution_count": 10,
   "id": "cbef6d40-44cb-4b9c-993a-e0d239ed39f0",
   "metadata": {},
   "outputs": [
    {
     "data": {
      "text/plain": [
       "Laptop             0\n",
       "Status             0\n",
       "Brand              0\n",
       "Model              0\n",
       "CPU                0\n",
       "RAM                0\n",
       "Storage            0\n",
       "Storage type      42\n",
       "GPU             1371\n",
       "Screen             4\n",
       "Touch              0\n",
       "Final Price        0\n",
       "dtype: int64"
      ]
     },
     "execution_count": 10,
     "metadata": {},
     "output_type": "execute_result"
    }
   ],
   "source": [
    "df.isna().sum()"
   ]
  },
  {
   "cell_type": "code",
   "execution_count": 21,
   "id": "55a161e7-cfa1-4bee-9e1a-41494eeeb709",
   "metadata": {},
   "outputs": [
    {
     "data": {
      "text/plain": [
       "Asus                415\n",
       "HP                  368\n",
       "Lenovo              366\n",
       "MSI                 308\n",
       "Acer                137\n",
       "Apple               116\n",
       "Dell                 84\n",
       "Microsoft            77\n",
       "Gigabyte             48\n",
       "Razer                37\n",
       "Medion               32\n",
       "LG                   32\n",
       "Alurin               29\n",
       "PcCom                24\n",
       "Samsung              22\n",
       "Dynabook Toshiba     19\n",
       "Vant                 11\n",
       "Primux                8\n",
       "Deep Gaming           8\n",
       "Innjoo                6\n",
       "Thomson               4\n",
       "Prixton               3\n",
       "Millenium             2\n",
       "Denver                1\n",
       "Jetwing               1\n",
       "Realme                1\n",
       "Toshiba               1\n",
       "Name: Brand, dtype: int64"
      ]
     },
     "execution_count": 21,
     "metadata": {},
     "output_type": "execute_result"
    }
   ],
   "source": [
    "df.Brand.value_counts()"
   ]
  },
  {
   "cell_type": "code",
   "execution_count": 22,
   "id": "c42c0dbe-611c-4a5b-9ec4-2b6ab5fb2515",
   "metadata": {},
   "outputs": [
    {
     "data": {
      "text/plain": [
       "27"
      ]
     },
     "execution_count": 22,
     "metadata": {},
     "output_type": "execute_result"
    }
   ],
   "source": [
    "df.Brand.value_counts().count()"
   ]
  },
  {
   "cell_type": "code",
   "execution_count": 35,
   "id": "51b150d0-d7ed-49ae-8e6c-7887d27e04ec",
   "metadata": {},
   "outputs": [
    {
     "data": {
      "text/plain": [
       "3936.0"
      ]
     },
     "execution_count": 35,
     "metadata": {},
     "output_type": "execute_result"
    }
   ],
   "source": [
    "df[(df['Brand'] == \"Dell\")][\"Final Price\"].max()"
   ]
  },
  {
   "cell_type": "code",
   "execution_count": null,
   "id": "b4e6f359-255e-459d-adb4-c3df63ca95f2",
   "metadata": {},
   "outputs": [],
   "source": []
  }
 ],
 "metadata": {
  "kernelspec": {
   "display_name": "Python 3 (ipykernel)",
   "language": "python",
   "name": "python3"
  },
  "language_info": {
   "codemirror_mode": {
    "name": "ipython",
    "version": 3
   },
   "file_extension": ".py",
   "mimetype": "text/x-python",
   "name": "python",
   "nbconvert_exporter": "python",
   "pygments_lexer": "ipython3",
   "version": "3.10.12"
  }
 },
 "nbformat": 4,
 "nbformat_minor": 5
}
